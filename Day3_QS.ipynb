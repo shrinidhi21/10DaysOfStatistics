{
 "cells": [
  {
   "cell_type": "markdown",
   "metadata": {},
   "source": [
    "# BASIC PROBABILITY\n",
    "\n",
    "Task 1\n",
    "In a single toss of 2 fair (evenly-weighted) six-sided dice, find the probability that their sum will be at most 9 .\n",
    "\n",
    "<p>2 / 3</p>\n",
    "<p>5 / 6</p>\n",
    "<p>1 / 4</p>\n",
    "<p>1 / 6</p>"
   ]
  },
  {
   "cell_type": "code",
   "execution_count": 4,
   "metadata": {},
   "outputs": [
    {
     "name": "stdout",
     "output_type": "stream",
     "text": [
      "1 + 1 = 2\n",
      "1 + 2 = 3\n",
      "1 + 3 = 4\n",
      "1 + 4 = 5\n",
      "1 + 5 = 6\n",
      "1 + 6 = 7\n",
      "2 + 1 = 3\n",
      "2 + 2 = 4\n",
      "2 + 3 = 5\n",
      "2 + 4 = 6\n",
      "2 + 5 = 7\n",
      "2 + 6 = 8\n",
      "3 + 1 = 4\n",
      "3 + 2 = 5\n",
      "3 + 3 = 6\n",
      "3 + 4 = 7\n",
      "3 + 5 = 8\n",
      "3 + 6 = 9\n",
      "4 + 1 = 5\n",
      "4 + 2 = 6\n",
      "4 + 3 = 7\n",
      "4 + 4 = 8\n",
      "4 + 5 = 9\n",
      "5 + 1 = 6\n",
      "5 + 2 = 7\n",
      "5 + 3 = 8\n",
      "5 + 4 = 9\n",
      "6 + 1 = 7\n",
      "6 + 2 = 8\n",
      "6 + 3 = 9\n",
      "Probaility = 0.8333333333333334\n",
      "30 / 36\n"
     ]
    }
   ],
   "source": [
    "d1 = [1,2,3,4,5,6]\n",
    "d2 = [1,2,3,4,5,6]\n",
    "\n",
    "total_p = len(d1)*len(d2)\n",
    "p_outcome=0\n",
    "for i in range(len(d1)):\n",
    "    for j in range(len(d2)):\n",
    "        if d1[i]+d2[j]<=9:\n",
    "            p_outcome = p_outcome+1\n",
    "            print(\"{0} + {1} = {2}\".format(d1[i],d2[j],d1[i]+d2[j]))\n",
    "            \n",
    "prob = p_outcome/total_p\n",
    "\n",
    "print(\"Probaility = {0}\".format(prob))\n",
    "\n",
    "print(\"{0} / {1}\".format(p_outcome,total_p))\n",
    "            "
   ]
  },
  {
   "cell_type": "markdown",
   "metadata": {},
   "source": [
    "# MORE DICE\n",
    "\n",
    "Task\n",
    "In a single toss of 2 fair (evenly-weighted) six-sided dice, find the probability that the values rolled by each die will be different and the two dice have a sum of 6.\n",
    "\n",
    "<p>1 / 9</p>\n",
    "<p>1 / 6</p>\n",
    "<p>2 / 3</p>\n",
    "<p>5 / 6</p>"
   ]
  },
  {
   "cell_type": "code",
   "execution_count": 7,
   "metadata": {},
   "outputs": [
    {
     "name": "stdout",
     "output_type": "stream",
     "text": [
      "1 + 5 = 6\n",
      "2 + 4 = 6\n",
      "4 + 2 = 6\n",
      "5 + 1 = 6\n",
      "Probaility = 0.1111111111111111\n",
      "4 / 36\n"
     ]
    }
   ],
   "source": [
    "d1 = [1,2,3,4,5,6]\n",
    "d2 = [1,2,3,4,5,6]\n",
    "\n",
    "total_p = len(d1)*len(d2)\n",
    "p_outcome=0\n",
    "for i in range(len(d1)):\n",
    "    for j in range(len(d2)):\n",
    "        if (d1[i]+d2[j]==6) and (d1[i]!=d2[j]):\n",
    "            p_outcome = p_outcome+1\n",
    "            print(\"{0} + {1} = {2}\".format(d1[i],d2[j],d1[i]+d2[j]))\n",
    "            \n",
    "prob = p_outcome/total_p\n",
    "\n",
    "print(\"Probaility = {0}\".format(prob))\n",
    "\n",
    "print(\"{0} / {1}\".format(p_outcome,total_p))\n",
    "            "
   ]
  },
  {
   "cell_type": "markdown",
   "metadata": {},
   "source": [
    "# COMPOUND EVENT PROBABILITY\n",
    "\n",
    "Task\n",
    "There are  urns labeled X,Y , and Z.\n",
    "\n",
    "\n",
    "Urn X contains 4 red balls and 3 black balls.\n",
    "Urn Y contains 5 red balls and 4 black balls.\n",
    "Urn Z contains 4 red balls and 4 black balls.\n",
    "\n",
    "One ball is drawn from each of the 3 urns. What is the probability that, of the 3 balls drawn,2  are red and 1 is black?\n",
    "\n",
    "<p>10 / 63</p>\n",
    "<p>2 / 7</p>\n",
    "<p>17 / 42</p>\n",
    "<p>31 / 126</p>"
   ]
  },
  {
   "cell_type": "code",
   "execution_count": 9,
   "metadata": {},
   "outputs": [
    {
     "name": "stdout",
     "output_type": "stream",
     "text": [
      "0.40476190476190477\n"
     ]
    }
   ],
   "source": [
    "\n",
    "X = {\"Red\":4/7, \"Black\":3/7}\n",
    "Y = {\"Red\":5/9, \"Black\":4/9}\n",
    "Z = {\"Red\":4/8, \"Black\":4/8}\n",
    "\n",
    "f_porb = X[\"Red\"] * Y[\"Red\"] * Z[\"Black\"]\n",
    "s_porb = X[\"Red\"] * Y[\"Black\"] * Z[\"Red\"]\n",
    "t_porb = X[\"Black\"] * Y[\"Red\"] * Z[\"Red\"]\n",
    "\n",
    "# Get probability\n",
    "print(f_porb + s_porb + t_porb)"
   ]
  },
  {
   "cell_type": "code",
   "execution_count": null,
   "metadata": {},
   "outputs": [],
   "source": []
  }
 ],
 "metadata": {
  "kernelspec": {
   "display_name": "Python 3",
   "language": "python",
   "name": "python3"
  },
  "language_info": {
   "codemirror_mode": {
    "name": "ipython",
    "version": 3
   },
   "file_extension": ".py",
   "mimetype": "text/x-python",
   "name": "python",
   "nbconvert_exporter": "python",
   "pygments_lexer": "ipython3",
   "version": "3.8.3"
  }
 },
 "nbformat": 4,
 "nbformat_minor": 4
}
